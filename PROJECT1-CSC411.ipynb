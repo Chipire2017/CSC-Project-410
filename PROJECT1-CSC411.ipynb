{
 "cells": [
  {
   "cell_type": "markdown",
   "metadata": {},
   "source": [
    "#  EQUATIONS  FOR DISTILLATION COLUMN INTERNALS"
   ]
  },
  {
   "cell_type": "markdown",
   "metadata": {},
   "source": [
    "# Constants "
   ]
  },
  {
   "cell_type": "code",
   "execution_count": 1,
   "metadata": {},
   "outputs": [],
   "source": [
    "from math import sin, log\n",
    "LD=10\n",
    "D=3\n",
    "pL=2\n",
    "pV=1\n",
    "lmda=10\n",
    "Cpavg=10\n",
    "Tref=25 #deg c\n",
    "Tf=100\n",
    "TbpB=50\n",
    "TbpA=40\n",
    "F=1\n",
    "B=0.5\n",
    "D=2\n",
    "mult1=1\n",
    "mult2=1\n",
    "do=10\n",
    "uflood=12\n",
    "Csbf=2\n",
    "sigma=1\n",
    "frac=0.50\n",
    "n=0.2\n",
    "thta=20\n",
    "Co=2\n",
    "hr=10"
   ]
  },
  {
   "cell_type": "markdown",
   "metadata": {},
   "source": [
    "# Variables"
   ]
  },
  {
   "cell_type": "code",
   "execution_count": 41,
   "metadata": {},
   "outputs": [
    {
     "name": "stdout",
     "output_type": "stream",
     "text": [
      "-791.7889097606477\n"
     ]
    }
   ],
   "source": [
    "\n",
    "\n",
    "Lo=LD*D\n",
    "V1=Lo-D\n",
    "\n",
    "mL=pL*Lo\n",
    "mV=pV*V1\n",
    "Qc=lmda * D +Lo\n",
    "Hf=Cpavg*(Tf - Tref)\n",
    "Hb=mL*Cpavg*(TbpB - Tref)\n",
    "Hd=mV*(lmda+Cpavg*(Tref - TbpA))\n",
    "Qr=Qc+F*Hf-B*Hb- D* Hd\n",
    "lp=mult1*do\n",
    "tw=mult2*do\n",
    "\n",
    "a=(mL/mV*1.0)*(pV/pL*1.0)**(0.5)*uflood/0.3048\n",
    "\n",
    "b=Csbf*((sigma/20.0)**0.2)*((pL-pV)/pV*1.0)**(0.5)\n",
    "\n",
    "Flv=a-b\n",
    "uop=frac*uflood\n",
    "MWv=uop*pV\n",
    "Dc=((4.0*V1*MWv)/(22.0/7*n*pV*frac*uflood*3600))**(0.5)\n",
    "x=((thta-sin(thta))/(2*22/7))\n",
    "lw=Dc*sin(thta)/2\n",
    "\n",
    "lup=(Dc-0.05)*(22/7*thta)/180\n",
    "Aup=0.05*lup\n",
    "lcz=lw-0.05\n",
    "Acz=2*(lcz*0.05)\n",
    "Ac=(22/7/4)*Dc**2\n",
    "Ad=(1-n)*Ac\n",
    "Aa=Ac+2*Ad\n",
    "Ap=Aa+Aup+Acz\n",
    "Ah=0.9*Ap*((do/lp)**2)\n",
    "Ahole=(22/7/4)*do**2\n",
    "Nhole=(Ah/Ahole)\n",
    "Vo=((V1*MWv)/(pV*Ah*3600))\n",
    "uh=(Vo/Ah)\n",
    "hd=51*(pV/pL)*((uh/Co)**2)\n",
    "hw=10*tw\n",
    "hap=hw+0.01\n",
    "how=750*(mL/pL*lw)**(2/3)\n",
    "ht=hd- hr -hw-how\n",
    "Aap=hap*lw\n",
    "hdc=166*(mL/(pL*Aap))**2\n",
    "hb=ht-hdc-hw-how\n",
    "c=-1-(0.6*log(1.0*Flv))/(1.0*log(10))\n",
    "\n",
    "d=0.2*(log(Flv)/(1.0*log(10))**2)\n",
    "\n",
    "Csbf=10**(c-d)\n",
    "Co=0.65-1.5*(Ah/Ap)\n",
    "\n",
    "print(ht)\n"
   ]
  },
  {
   "cell_type": "code",
   "execution_count": null,
   "metadata": {},
   "outputs": [],
   "source": []
  }
 ],
 "metadata": {
  "kernelspec": {
   "display_name": "Python 3",
   "language": "python",
   "name": "python3"
  },
  "language_info": {
   "codemirror_mode": {
    "name": "ipython",
    "version": 3
   },
   "file_extension": ".py",
   "mimetype": "text/x-python",
   "name": "python",
   "nbconvert_exporter": "python",
   "pygments_lexer": "ipython3",
   "version": "3.7.1"
  }
 },
 "nbformat": 4,
 "nbformat_minor": 2
}
