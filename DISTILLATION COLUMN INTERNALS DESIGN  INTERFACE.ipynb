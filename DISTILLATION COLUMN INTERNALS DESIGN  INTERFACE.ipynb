{
 "cells": [
  {
   "cell_type": "markdown",
   "metadata": {},
   "source": [
    "# 1. Functions that automate the heuristics"
   ]
  },
  {
   "cell_type": "markdown",
   "metadata": {},
   "source": [
    "# Type of Flow"
   ]
  },
  {
   "cell_type": "code",
   "execution_count": 8,
   "metadata": {},
   "outputs": [
    {
     "name": "stdout",
     "output_type": "stream",
     "text": [
      "choose  diferent dimensions\n"
     ]
    }
   ],
   "source": [
    "def type_of_flow(L,D):\n",
    "    D=D/304.8 \n",
    "    if 0<L<=50 and 3<D<=20:\n",
    "        return\"reverse Flow\"\n",
    "    if 50.10<L<=500 and 3<D<=20:\n",
    "        return\"cross flow\"\n",
    "    if 500<L<=1000 and 7<D<=20:\n",
    "        return\"cross flow\"\n",
    "    else:\n",
    "        return\"choose  diferent dimensions\"\n",
    "print(type_of_flow(30,12))"
   ]
  },
  {
   "cell_type": "markdown",
   "metadata": {},
   "source": [
    "# Tower internals type"
   ]
  },
  {
   "cell_type": "code",
   "execution_count": 9,
   "metadata": {},
   "outputs": [
    {
     "name": "stdout",
     "output_type": "stream",
     "text": [
      "Choose TRAYS as a type of internals\n"
     ]
    }
   ],
   "source": [
    "def tower_internal_type(L):\n",
    "    #L is the liquid flow rate in m^3/m^2*h\n",
    "    if L>0 and L<30:\n",
    "        return\"Choose TRAYS as a type of internals\"\n",
    "    if L>=30 and L<50:\n",
    "        return\"Choose  RANDOM PACKINGS as a type of internals\"\n",
    "    if L>=50:\n",
    "        return\"Choose as STRUCTURED PACKINGS  a type of internals\"\n",
    "print(tower_internal_type(10))"
   ]
  },
  {
   "cell_type": "markdown",
   "metadata": {},
   "source": [
    "# Choice of packing size"
   ]
  },
  {
   "cell_type": "code",
   "execution_count": 10,
   "metadata": {},
   "outputs": [
    {
     "name": "stdout",
     "output_type": "stream",
     "text": [
      "Choose a packing size less than 25mm\n"
     ]
    }
   ],
   "source": [
    "def packing_size(D):\n",
    "    #Note that the ranges of D are in mm, but the results are in mm\n",
    "    if D<=300:\n",
    "        return\"Choose a packing size less than 25mm\"\n",
    "    if 300<D<900:\n",
    "        return\"Choose a packing size from  25 mm to 38mm\"\n",
    "    if D>900:\n",
    "        return\"Choose a packing size from  50 mm to 75mm\"\n",
    "    \n",
    "print(packing_size(10))"
   ]
  },
  {
   "cell_type": "code",
   "execution_count": 11,
   "metadata": {},
   "outputs": [
    {
     "name": "stdout",
     "output_type": "stream",
     "text": [
      "23\n"
     ]
    }
   ],
   "source": [
    "\n",
    "def conv_str_num(a):\n",
    "        return (int(a))\n",
    "\n",
    "print(conv_str_num(\"23\"))"
   ]
  },
  {
   "cell_type": "markdown",
   "metadata": {},
   "source": [
    "# 2. Creating a graphical  user interface(GUI) ,for distillation column internals design"
   ]
  },
  {
   "cell_type": "code",
   "execution_count": 12,
   "metadata": {},
   "outputs": [],
   "source": [
    "import tkinter as tk\n",
    "\n",
    "def conv_str_num(a):\n",
    "        return (int(a))\n",
    "\n",
    "class Startpage1(tk.Tk):\n",
    "    \n",
    "    def wrapper(self,event):\n",
    "        self.update_internals(self)\n",
    "        self.update_packing_size(self)\n",
    "        self.update_type_of_flow(self)\n",
    "        \n",
    "        \n",
    "        \n",
    "    def Lista(self):\n",
    "        print(self.Comp1.get(),self.Comp2.get())\n",
    "        \n",
    "    def update_internals(self,event):\n",
    "        TI = conv_str_num(self.scaleB.get())\n",
    "        self.T1.delete(\"0.0\", \"0.end\")\n",
    "        self.T1.insert(\"0.0\", tower_internal_type(TI))\n",
    "        \n",
    "    def update_packing_size(self,event):\n",
    "        PS = conv_str_num(self.scaleA.get())\n",
    "        self.T2.delete(\"0.0\", \"0.end\")\n",
    "        self.T2.insert(\"0.0\", packing_size(PS))\n",
    "\n",
    "    def update_type_of_flow(self,event):\n",
    "        TF1 = conv_str_num(self.scaleB.get())\n",
    "        TF2 = conv_str_num(self.scaleA.get())\n",
    "        self.T3.delete(\"0.0\", \"0.end\")\n",
    "        self.T3.insert(\"0.0\",type_of_flow(TF1,TF2))\n",
    "\n",
    "     \n",
    "        \n",
    "    \n",
    "    \n",
    "    def __init__(self):\n",
    "        \n",
    "        \n",
    "        tk.Tk.__init__(self)\n",
    "        \n",
    "        #This is creating a container or window################\n",
    "        container = tk.Frame(self)\n",
    "        container.pack(side=\"top\", fill=\"both\", expand=True)\n",
    "        self.title(\"Python Graphical user interface(GUI)\")\n",
    "        #######################################################\n",
    "        \n",
    "        #This is the top heading######################################\n",
    "        self.label = tk.Label(container, text = \"Supportive environment for distillation column internals design\")\n",
    "        self.label.pack(side='left', fill='both', expand=1)\n",
    "        ##############################################################\n",
    "        \n",
    "        #This is \"components\" heading###################################\n",
    "        componentframe = tk.LabelFrame(self, text=\"Components\")\n",
    "        componentframe.pack(fill=\"both\", expand='yes')\n",
    "        frame = tk.Frame(componentframe)\n",
    "        label = tk.Label(frame, text='Component1')\n",
    "        label.pack(side='left')\n",
    "        ################################################################\n",
    "        \n",
    "        self.column_diameter = tk.IntVar(value=10)\n",
    "        #this is code for a single slider###############################\n",
    "        LabelA = tk.Label(self,text=\"Diameter of Column_mm\")\n",
    "        LabelA.pack(side='left')\n",
    "        scaleA = self.scaleA = tk.Scale(self, from_=10,to=2000, orient= tk.HORIZONTAL, variable=self.column_diameter,command=self.wrapper)\n",
    "        scaleA.pack(side='left')\n",
    "        #LabelA.place(relx=0.4, rely=0, anchor=tk.CENTER)\n",
    "        ################################################################\n",
    "        \n",
    "        self.vapour_flow_rate = tk.IntVar(value=10)\n",
    "        self.liquid_flow_rate = tk.IntVar(value=10)\n",
    "        \n",
    "        self.LabelB = tk.Label(self,text=\"Liquid Flow Rate\")\n",
    "        self.LabelB.pack(side='left')\n",
    "        scaleB = self.scaleB = tk.Scale(self, from_=1,to=2000, orient= tk.HORIZONTAL, variable=self.liquid_flow_rate,command=self.wrapper)\n",
    "        self.scaleB.pack(side='left')\n",
    "        \n",
    "        \n",
    "#   \n",
    "        LabelC = tk.Label(self,text=\"Vapour Flow Rate\")\n",
    "        LabelC.pack(side='left')\n",
    "        self.scaleC = scaleC = tk.Scale(self, from_=1,to=2000, orient= tk.HORIZONTAL, variable=[self.column_diameter,self.liquid_flow_rate],command=self.update_type_of_flow) #command=self.update_internals\n",
    "        scaleC.pack(side='left')\n",
    "        \n",
    "            \n",
    "        self.width = container.winfo_reqwidth()\n",
    "        \n",
    "        \n",
    "        LabelD = tk.Label(self,text=\"Tower Internal\")\n",
    "        LabelD.pack() \n",
    "        self.T1 = T1 = tk.Text(self,height=1,width=40)\n",
    "        T1.pack()\n",
    "        #T1.Entry(self,width=40,textvariable=self.vapour_flow_rate)\n",
    "        T1.insert('1.0',str(tower_internal_type(scaleA.get())))\n",
    "#       print(slide_(scaleA.get(),scaleB.get(),scaleC.get()))\n",
    "        \n",
    "        LabelE = tk.Label(self,text=\"Choice of Packing Size\")\n",
    "        LabelE.pack()\n",
    "        self.T2 = T2 = tk.Text(self,height=1,width=40)\n",
    "        T2.pack()\n",
    "        T2.insert('1.0',str(packing_size(scaleC.get())))\n",
    "        \n",
    "        LabelF = tk.Label(self,text=\"Type of Flow\")\n",
    "        LabelF.pack()\n",
    "        self.T3=T3 = tk.Text(self,height=1,width=40)\n",
    "        T3.pack()\n",
    "        T3.insert('1.0',str(type_of_flow(scaleB.get(),scaleA.get())))\n",
    "\n",
    "app = Startpage1()\n",
    "app.mainloop()"
   ]
  },
  {
   "cell_type": "code",
   "execution_count": 13,
   "metadata": {},
   "outputs": [],
   "source": [
    "a = tk.Scale()"
   ]
  },
  {
   "cell_type": "code",
   "execution_count": 14,
   "metadata": {},
   "outputs": [
    {
     "data": {
      "text/plain": [
       "0"
      ]
     },
     "execution_count": 14,
     "metadata": {},
     "output_type": "execute_result"
    }
   ],
   "source": [
    "int(a.get())"
   ]
  },
  {
   "cell_type": "code",
   "execution_count": null,
   "metadata": {},
   "outputs": [],
   "source": []
  }
 ],
 "metadata": {
  "kernelspec": {
   "display_name": "Python 3",
   "language": "python",
   "name": "python3"
  },
  "language_info": {
   "codemirror_mode": {
    "name": "ipython",
    "version": 3
   },
   "file_extension": ".py",
   "mimetype": "text/x-python",
   "name": "python",
   "nbconvert_exporter": "python",
   "pygments_lexer": "ipython3",
   "version": "3.7.3"
  }
 },
 "nbformat": 4,
 "nbformat_minor": 2
}
