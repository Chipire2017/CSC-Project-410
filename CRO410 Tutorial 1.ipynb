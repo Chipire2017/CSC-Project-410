{
 "cells": [
  {
   "cell_type": "code",
   "execution_count": 1,
   "metadata": {},
   "outputs": [],
   "source": [
    "from numpy import *\n",
    "import matplotlib.pyplot as plt\n",
    "from scipy.integrate import odeint\n",
    "%matplotlib inline"
   ]
  },
  {
   "cell_type": "markdown",
   "metadata": {},
   "source": [
    "# Tut 1: Question 3"
   ]
  },
  {
   "cell_type": "code",
   "execution_count": 2,
   "metadata": {},
   "outputs": [],
   "source": [
    "def rate(Fa, Fb, Fc, P):\n",
    "   \n",
    "    Ft = Fa + Fb + Fc\n",
    "    ra = -k*(Fb/Ft)*P\n",
    "    return ra"
   ]
  },
  {
   "cell_type": "code",
   "execution_count": 3,
   "metadata": {},
   "outputs": [],
   "source": [
    "def PBR(var, W):\n",
    "    Fa = var[0]\n",
    "    Fb = var[1]\n",
    "    Fc = var[2]\n",
    "    \n",
    "    ra = rate(Fa, Fb, Fc, Po)\n",
    "    rb = 2*ra\n",
    "    rc = -ra\n",
    "    \n",
    "    dFadW = ra\n",
    "    dFbdW = rb\n",
    "    dFcdW = rc\n",
    "    \n",
    "    return [dFadW, dFbdW, dFcdW]"
   ]
  },
  {
   "cell_type": "code",
   "execution_count": 4,
   "metadata": {},
   "outputs": [
    {
     "data": {
      "text/plain": [
       "0.4999234564703841"
      ]
     },
     "execution_count": 4,
     "metadata": {},
     "output_type": "execute_result"
    }
   ],
   "source": [
    "k = 0.05 #molA/kgminatmb\n",
    "Fto = 40 #mol/min\n",
    "Fao = 13.2 #mol/min\n",
    "Fbo = 26.8 #mol/min\n",
    "Fco = 0 #mol/min\n",
    "Po = 5 #atm\n",
    "R = 8.314 #j/molK\n",
    "T = 170+273.15 #K\n",
    "Qo = (Fto*R*T)/Po #m3\n",
    "varo = [Fao, Fbo, Fco]\n",
    "\n",
    "W1 = 44.3\n",
    "Wspan1 = linspace(0, W1, 1000)\n",
    "F = odeint(PBR, varo, Wspan1)\n",
    "Fa, Fb, Fc = F.T\n",
    "Ft = Fa+Fb+Fc\n",
    "Q = (Ft/Fto)*Qo\n",
    "x = (Fao-Fa[-1])/Fao\n",
    "x"
   ]
  },
  {
   "cell_type": "code",
   "execution_count": 5,
   "metadata": {},
   "outputs": [
    {
     "data": {
      "image/png": "[encoded data removed]",
      "text/plain": [
       "<Figure size 432x288 with 1 Axes>"
      ]
     },
     "metadata": {
      "needs_background": "light"
     },
     "output_type": "display_data"
    }
   ],
   "source": [
    "Ca = Fa/Q\n",
    "Cb = Fb/Q\n",
    "Cc = Fc/Q\n",
    "\n",
    "plt.plot(Wspan1, Ca, color='blue', label='Ca')\n",
    "plt.plot(Wspan1, Cb, color='red', label='Cb')\n",
    "plt.plot(Wspan1, Cc, color='green', label='Cc')\n",
    "plt.legend(loc='best')\n",
    "plt.show()"
   ]
  },
  {
   "cell_type": "code",
   "execution_count": 6,
   "metadata": {},
   "outputs": [
    {
     "data": {
      "image/png": "[encoded data removed]",
      "text/plain": [
       "<Figure size 432x288 with 1 Axes>"
      ]
     },
     "metadata": {
      "needs_background": "light"
     },
     "output_type": "display_data"
    }
   ],
   "source": [
    "ra = rate(Fa, Fb, Fc, Po)\n",
    "rb = 2*ra\n",
    "rc = -ra\n",
    "\n",
    "plt.plot(Wspan1, ra, color='blue', label='ra')\n",
    "plt.plot(Wspan1, rb, color='red', label='rb')\n",
    "plt.plot(Wspan1, rc, color='green', label='rc')\n",
    "plt.legend(loc='best')\n",
    "plt.show()"
   ]
  },
  {
   "cell_type": "code",
   "execution_count": 7,
   "metadata": {},
   "outputs": [
    {
     "data": {
      "text/plain": [
       "0.005674501730546565"
      ]
     },
     "execution_count": 7,
     "metadata": {},
     "output_type": "execute_result"
    }
   ],
   "source": [
    "Mo_avg = 30\n",
    "e = 0.4\n",
    "D = 0.085 #m\n",
    "dp = 3e-3 #m\n",
    "u = 2e-5 #kg/ms\n",
    "rhoB = 1000 #kg/m3\n",
    "A = (pi/4)*D**2\n",
    "A"
   ]
  },
  {
   "cell_type": "code",
   "execution_count": 8,
   "metadata": {},
   "outputs": [],
   "source": [
    "def PBR1(var, W):\n",
    "    Fa = var[0]\n",
    "    Fb = var[1]\n",
    "    Fc = var[2]\n",
    "    P = var[3]\n",
    "    \n",
    "    ra = rate(Fa, Fb, Fc, P)\n",
    "    rb = 2*ra\n",
    "    rc = -ra\n",
    "    \n",
    "    Ft = Fa+Fb+Fc\n",
    "        \n",
    "    dFadW = ra\n",
    "    dFbdW = rb\n",
    "    dFcdW = rc    \n",
    "    dPdW = -K*(Ft/Fto)*(Po/P)*(1/1000)*(1/101.325)\n",
    "        \n",
    "    return [dFadW, dFbdW, dFcdW, dPdW]"
   ]
  },
  {
   "cell_type": "code",
   "execution_count": 9,
   "metadata": {},
   "outputs": [
    {
     "data": {
      "text/plain": [
       "0.5006189499574337"
      ]
     },
     "execution_count": 9,
     "metadata": {},
     "output_type": "execute_result"
    }
   ],
   "source": [
    "k = 0.05 #molA/kgminatmb\n",
    "Fto = 40 #mol/min\n",
    "Fao = 13.2 #mol/min\n",
    "Fbo = 26.8 #mol/min\n",
    "Fco = 0 #mol/min\n",
    "Po = 5 #atm\n",
    "Pi = 5*101.325\n",
    "R = 8.314 #j/molK\n",
    "T = 170+273.15 #K\n",
    "Qo = (Fto*R*T)/Pi #m3\n",
    "K = 3184.4 #Pa/kg\n",
    "i = [Fao, Fbo, Fco, Po]\n",
    "\n",
    "W2 = 53 #kg\n",
    "Wspan2 = linspace(0, W2, 1000)\n",
    "F = odeint(PBR1, i, Wspan2)\n",
    "Fa, Fb, Fc, P = F.T\n",
    "Ft = Fa+Fb+Fc\n",
    "Q = (Ft/Fto)*Qo\n",
    "x = (Fao-Fa[-1])/Fao\n",
    "x"
   ]
  },
  {
   "cell_type": "code",
   "execution_count": 10,
   "metadata": {},
   "outputs": [
    {
     "data": {
      "text/plain": [
       "[<matplotlib.lines.Line2D at 0x225260d9f60>]"
      ]
     },
     "execution_count": 10,
     "metadata": {},
     "output_type": "execute_result"
    },
    {
     "data": {
      "image/png": "[encoded data removed]",
      "text/plain": [
       "<Figure size 432x288 with 1 Axes>"
      ]
     },
     "metadata": {
      "needs_background": "light"
     },
     "output_type": "display_data"
    }
   ],
   "source": [
    "plt.plot(Wspan2, P)"
   ]
  },
  {
   "cell_type": "code",
   "execution_count": 11,
   "metadata": {},
   "outputs": [
    {
     "data": {
      "text/plain": [
       "3.3759220764073175"
      ]
     },
     "execution_count": 11,
     "metadata": {},
     "output_type": "execute_result"
    }
   ],
   "source": [
    "P[-1]"
   ]
  },
  {
   "cell_type": "code",
   "execution_count": 12,
   "metadata": {},
   "outputs": [
    {
     "data": {
      "text/plain": [
       "[<matplotlib.lines.Line2D at 0x22526141668>]"
      ]
     },
     "execution_count": 12,
     "metadata": {},
     "output_type": "execute_result"
    },
    {
     "data": {
      "image/png": "[encoded data removed]",
      "text/plain": [
       "<Figure size 432x288 with 1 Axes>"
      ]
     },
     "metadata": {
      "needs_background": "light"
     },
     "output_type": "display_data"
    }
   ],
   "source": [
    "Ca = Fa/Q\n",
    "plt.plot(Wspan2, Ca, 'r')"
   ]
  },
  {
   "cell_type": "markdown",
   "metadata": {},
   "source": [
    "# Tut 1: Question 4"
   ]
  },
  {
   "cell_type": "code",
   "execution_count": 13,
   "metadata": {},
   "outputs": [],
   "source": [
    "def rate(Fa, Fb, P):\n",
    "   \n",
    "    Ft = Fa + Fb\n",
    "    Q = (Ft/Fto)*Qo\n",
    "    #Q = (P/Po)*Qo\n",
    "    ra = -k*(Fa/Q)**2\n",
    "    return ra"
   ]
  },
  {
   "cell_type": "code",
   "execution_count": 14,
   "metadata": {},
   "outputs": [],
   "source": [
    "def PBR2(val, W):\n",
    "    Fa = val[0]\n",
    "    Fb = val[1]\n",
    "    P = val[2]\n",
    "       \n",
    "    ra = rate(Fa, Fb, P)\n",
    "    rb = -0.5*ra\n",
    "    \n",
    "    Ft = Fa+Fb\n",
    "        \n",
    "    dFadW = ra\n",
    "    dFbdW = rb    \n",
    "    dPdW = -K*(Ft/Fto)*(Po/P)*(1/1000)\n",
    "    #print(P)    \n",
    "    return [dFadW, dFbdW, dPdW]"
   ]
  },
  {
   "cell_type": "code",
   "execution_count": 22,
   "metadata": {},
   "outputs": [
    {
     "data": {
      "text/plain": [
       "(5.000043730965486,\n",
       " 0.6927741824345949,\n",
       " 0.15361290878270253,\n",
       " 0.3072258175654051)"
      ]
     },
     "execution_count": 22,
     "metadata": {},
     "output_type": "execute_result"
    }
   ],
   "source": [
    "Fao = 1 \n",
    "Fbo = 0\n",
    "Qo = 1\n",
    "W = 4\n",
    "Po = 20*101.325 #Kpa\n",
    "Pe = 5*101.325 #Kpa\n",
    "Fae = 0.7\n",
    "\n",
    "K = 10346800 #Pa/kg \n",
    "#K = 10999999\n",
    "#K = 13800000\n",
    "k = 0.000058\n",
    "#k = 0.00044\n",
    "\n",
    "w = linspace(0, W, 100)\n",
    "Varo = [Fao, Fbo, Po]\n",
    "Var = odeint(PBR2, Varo, w)\n",
    "Fa, Fb, P = Var.T\n",
    "\n",
    "P[-1]/101.325, Fa[-1], Fb[-1], (Fao-Fa[-1])/Fao"
   ]
  },
  {
   "cell_type": "code",
   "execution_count": 16,
   "metadata": {},
   "outputs": [
    {
     "data": {
      "text/plain": [
       "<matplotlib.legend.Legend at 0x22526165860>"
      ]
     },
     "execution_count": 16,
     "metadata": {},
     "output_type": "execute_result"
    },
    {
     "data": {
      "image/png": "[encoded data removed]",
      "text/plain": [
       "<Figure size 432x288 with 1 Axes>"
      ]
     },
     "metadata": {
      "needs_background": "light"
     },
     "output_type": "display_data"
    }
   ],
   "source": [
    "plt.plot(w, P, label='Pressure')\n",
    "plt.legend(loc='best')"
   ]
  },
  {
   "cell_type": "code",
   "execution_count": 17,
   "metadata": {},
   "outputs": [
    {
     "data": {
      "text/plain": [
       "<matplotlib.legend.Legend at 0x225262131d0>"
      ]
     },
     "execution_count": 17,
     "metadata": {},
     "output_type": "execute_result"
    },
    {
     "data": {
      "image/png": "[encoded data removed]",
      "text/plain": [
       "<Figure size 432x288 with 1 Axes>"
      ]
     },
     "metadata": {
      "needs_background": "light"
     },
     "output_type": "display_data"
    }
   ],
   "source": [
    "Ft = Fa+Fb\n",
    "Q = (Ft/Fto)*Qo\n",
    "Cb = Fb/Q\n",
    "Ca=Fa/Q\n",
    "plt.plot(w, Ca,'r', label='CA')\n",
    "plt.plot(w, Cb, 'g', label='CB')\n",
    "plt.legend(loc='best')"
   ]
  },
  {
   "cell_type": "code",
   "execution_count": 18,
   "metadata": {},
   "outputs": [
    {
     "data": {
      "text/plain": [
       "0.3978079916838416"
      ]
     },
     "execution_count": 18,
     "metadata": {},
     "output_type": "execute_result"
    }
   ],
   "source": [
    "from scipy.optimize import fsolve\n",
    "def r(Ca):\n",
    "    return -kdash*Ca**2\n",
    "\n",
    "def cstr(v):\n",
    "    Fa = v[0]\n",
    "    Fb = v[1]\n",
    "    Ft = Fa + Fb\n",
    "    Q = (Ft/Fto)*Qo\n",
    "    \n",
    "    Ca = Fa/Q\n",
    "    ra = r(Ca)\n",
    "    rb = -0.5*ra\n",
    "    \n",
    "    e1 = Fao - Fa + ra*W\n",
    "    e2 = Fbo - Fb + rb*W\n",
    "    \n",
    "    return [e1, e2]\n",
    "\n",
    "Fa = []\n",
    "Fb = []\n",
    "kdash = 0.00044\n",
    "#W = linspace(0, 1, 10)\n",
    "W = 1\n",
    "F = fsolve(cstr, [1, 0])\n",
    "fa, fb = F[0], F[1]\n",
    "Fa.append(fa)\n",
    "Fb.append(fb)\n",
    "    \n",
    "Fa\n",
    "x = (1 - Fa[-1])/1\n",
    "x\n",
    "    "
   ]
  },
  {
   "cell_type": "code",
   "execution_count": null,
   "metadata": {},
   "outputs": [],
   "source": []
  },
  {
   "cell_type": "code",
   "execution_count": null,
   "metadata": {},
   "outputs": [],
   "source": []
  }
 ],
 "metadata": {
  "kernelspec": {
   "display_name": "Python 3",
   "language": "python",
   "name": "python3"
  },
  "language_info": {
   "codemirror_mode": {
    "name": "ipython",
    "version": 3
   },
   "file_extension": ".py",
   "mimetype": "text/x-python",
   "name": "python",
   "nbconvert_exporter": "python",
   "pygments_lexer": "ipython3",
   "version": "3.7.1"
  }
 },
 "nbformat": 4,
 "nbformat_minor": 2
}
